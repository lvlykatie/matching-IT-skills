{
 "cells": [
  {
   "cell_type": "code",
   "execution_count": 2,
   "id": "6a5f3091",
   "metadata": {},
   "outputs": [
    {
     "name": "stdout",
     "output_type": "stream",
     "text": [
      "       STT     Mã MH                              Tên MH  \\\n",
      "0      1.0  ACCT3603          Hệ thống thông tin kế toán   \n",
      "1      2.0  ACCT5123   Hoạch định nguồn lực doanh nghiệp   \n",
      "2      3.0     CE005  Giới thiệu ngành Kỹ Thuật Máy tính   \n",
      "3      4.0     CE103              Vi xử lý-vi điều khiển   \n",
      "4      5.0     CE105                   Xử lý tín hiệu số   \n",
      "..     ...       ...                                 ...   \n",
      "394  397.0     SS008       Kinh tế chính trị Mác – Lênin   \n",
      "395  398.0     SS009           Chủ nghĩa xã hội khoa học   \n",
      "396  399.0     SS010      Lịch sử Đảng Cộng sản Việt Nam   \n",
      "397  400.0  STAT3013                  Phân tích thống kê   \n",
      "398  401.0  STAT4033                            Thống kê   \n",
      "\n",
      "                                       Tóm tắt môn học  \\\n",
      "0    Trình bày các kiến thức về công tác kế toán, c...   \n",
      "1    Cung cấp cho sinh viên các kiến thức về một hệ...   \n",
      "2    Hiều biết rõ về ngành học và định hướng nghề n...   \n",
      "3    ▪ Môn học sẽ cung cấp các kiến thức về khái ni...   \n",
      "4    Môn học Xử lý tín hiệu số nhằm cung cấp các kh...   \n",
      "..                                                 ...   \n",
      "394  Môn học trang bị cho sinh viên những kiến thức...   \n",
      "395  Môn học trang bị cho sinh viên những kiến thức...   \n",
      "396  Môn học trang bị cho sinh viên những kiến thức...   \n",
      "397  Cung cấp cho sinh viên các ngành kỹ thuật lý t...   \n",
      "398  Các lý thuyết toán học về xác suất và thống kê...   \n",
      "\n",
      "                                                 Skill  \n",
      "0    Accounting Cycle Analysis, Business Process Mo...  \n",
      "1    ERP System Analysis, Business Process Modeling...  \n",
      "2    Industry Awareness, Career Planning, ICT Trend...  \n",
      "3    Microprocessor and Microcontroller Fundamental...  \n",
      "4    Digital Signal Processing, Discrete-Time Syste...  \n",
      "..                                                 ...  \n",
      "394                                                     \n",
      "395                                                     \n",
      "396                                                     \n",
      "397  Descriptive Statistics, Data Visualization, Fr...  \n",
      "398                                                     \n",
      "\n",
      "[399 rows x 5 columns]\n"
     ]
    }
   ],
   "source": [
    "import pandas as pd\n",
    "\n",
    "# Bước 1: Đọc file Excel (sheet đầu tiên)\n",
    "df = pd.read_excel(\"raw-data.xlsx\")\n",
    "\n",
    "# Bước 2: Điền giá trị bị merge (do Excel merge thì pandas sẽ thấy các ô đó là NaN)\n",
    "df[['STT', 'Mã MH', 'Tên MH']] = df[['STT', 'Mã MH', 'Tên MH']].ffill()\n",
    "\n",
    "# Bước 3: Gom các dòng có cùng STT lại, nối nội dung \"Tóm tắt môn học\" và \"Skill\"\n",
    "grouped = df.groupby(['STT', 'Mã MH', 'Tên MH'], as_index=False).agg({\n",
    "    'Tóm tắt môn học': lambda x: '\\n'.join(str(i).strip() for i in x if pd.notnull(i)),\n",
    "    'Skill': lambda x: ', '.join(str(i).strip() for i in x if pd.notnull(i))\n",
    "})\n",
    "\n",
    "# Bước 4: Lưu ra file mới nếu muốn\n",
    "grouped.to_excel(\"courses_flattened.xlsx\", index=False)\n",
    "\n",
    "# Xem kết quả\n",
    "print(grouped)\n"
   ]
  }
 ],
 "metadata": {
  "kernelspec": {
   "display_name": "Python 3",
   "language": "python",
   "name": "python3"
  },
  "language_info": {
   "codemirror_mode": {
    "name": "ipython",
    "version": 3
   },
   "file_extension": ".py",
   "mimetype": "text/x-python",
   "name": "python",
   "nbconvert_exporter": "python",
   "pygments_lexer": "ipython3",
   "version": "3.13.2"
  }
 },
 "nbformat": 4,
 "nbformat_minor": 5
}
