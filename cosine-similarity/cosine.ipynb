{
 "cells": [
  {
   "cell_type": "code",
   "execution_count": 1,
   "id": "4bb57f56",
   "metadata": {},
   "outputs": [
    {
     "name": "stdout",
     "output_type": "stream",
     "text": [
      "Requirement already satisfied: sentence-transformers in c:\\users\\trant\\appdata\\local\\programs\\python\\python313\\lib\\site-packages (4.1.0)\n",
      "Requirement already satisfied: pandas in c:\\users\\trant\\appdata\\local\\programs\\python\\python313\\lib\\site-packages (2.2.3)\n",
      "Requirement already satisfied: openpyxl in c:\\users\\trant\\appdata\\local\\programs\\python\\python313\\lib\\site-packages (3.1.5)\n",
      "Requirement already satisfied: transformers<5.0.0,>=4.41.0 in c:\\users\\trant\\appdata\\local\\programs\\python\\python313\\lib\\site-packages (from sentence-transformers) (4.52.4)\n",
      "Requirement already satisfied: tqdm in c:\\users\\trant\\appdata\\local\\programs\\python\\python313\\lib\\site-packages (from sentence-transformers) (4.67.1)\n",
      "Requirement already satisfied: torch>=1.11.0 in c:\\users\\trant\\appdata\\local\\programs\\python\\python313\\lib\\site-packages (from sentence-transformers) (2.7.0)\n",
      "Requirement already satisfied: scikit-learn in c:\\users\\trant\\appdata\\local\\programs\\python\\python313\\lib\\site-packages (from sentence-transformers) (1.6.1)\n",
      "Requirement already satisfied: scipy in c:\\users\\trant\\appdata\\local\\programs\\python\\python313\\lib\\site-packages (from sentence-transformers) (1.15.2)\n",
      "Requirement already satisfied: huggingface-hub>=0.20.0 in c:\\users\\trant\\appdata\\local\\programs\\python\\python313\\lib\\site-packages (from sentence-transformers) (0.32.4)\n",
      "Requirement already satisfied: Pillow in c:\\users\\trant\\appdata\\local\\programs\\python\\python313\\lib\\site-packages (from sentence-transformers) (11.1.0)\n",
      "Requirement already satisfied: typing_extensions>=4.5.0 in c:\\users\\trant\\appdata\\local\\programs\\python\\python313\\lib\\site-packages (from sentence-transformers) (4.13.2)\n",
      "Requirement already satisfied: filelock in c:\\users\\trant\\appdata\\local\\programs\\python\\python313\\lib\\site-packages (from transformers<5.0.0,>=4.41.0->sentence-transformers) (3.18.0)\n",
      "Requirement already satisfied: numpy>=1.17 in c:\\users\\trant\\appdata\\local\\programs\\python\\python313\\lib\\site-packages (from transformers<5.0.0,>=4.41.0->sentence-transformers) (2.2.4)\n",
      "Requirement already satisfied: packaging>=20.0 in c:\\users\\trant\\appdata\\local\\programs\\python\\python313\\lib\\site-packages (from transformers<5.0.0,>=4.41.0->sentence-transformers) (24.2)\n",
      "Requirement already satisfied: pyyaml>=5.1 in c:\\users\\trant\\appdata\\local\\programs\\python\\python313\\lib\\site-packages (from transformers<5.0.0,>=4.41.0->sentence-transformers) (6.0.2)\n",
      "Requirement already satisfied: regex!=2019.12.17 in c:\\users\\trant\\appdata\\local\\programs\\python\\python313\\lib\\site-packages (from transformers<5.0.0,>=4.41.0->sentence-transformers) (2024.11.6)\n",
      "Requirement already satisfied: requests in c:\\users\\trant\\appdata\\local\\programs\\python\\python313\\lib\\site-packages (from transformers<5.0.0,>=4.41.0->sentence-transformers) (2.32.3)\n",
      "Requirement already satisfied: tokenizers<0.22,>=0.21 in c:\\users\\trant\\appdata\\local\\programs\\python\\python313\\lib\\site-packages (from transformers<5.0.0,>=4.41.0->sentence-transformers) (0.21.1)\n",
      "Requirement already satisfied: safetensors>=0.4.3 in c:\\users\\trant\\appdata\\local\\programs\\python\\python313\\lib\\site-packages (from transformers<5.0.0,>=4.41.0->sentence-transformers) (0.5.3)\n",
      "Requirement already satisfied: fsspec>=2023.5.0 in c:\\users\\trant\\appdata\\local\\programs\\python\\python313\\lib\\site-packages (from huggingface-hub>=0.20.0->sentence-transformers) (2025.5.1)\n",
      "Requirement already satisfied: python-dateutil>=2.8.2 in c:\\users\\trant\\appdata\\local\\programs\\python\\python313\\lib\\site-packages (from pandas) (2.9.0.post0)\n",
      "Requirement already satisfied: pytz>=2020.1 in c:\\users\\trant\\appdata\\local\\programs\\python\\python313\\lib\\site-packages (from pandas) (2025.1)\n",
      "Requirement already satisfied: tzdata>=2022.7 in c:\\users\\trant\\appdata\\local\\programs\\python\\python313\\lib\\site-packages (from pandas) (2025.1)\n",
      "Requirement already satisfied: et-xmlfile in c:\\users\\trant\\appdata\\local\\programs\\python\\python313\\lib\\site-packages (from openpyxl) (2.0.0)\n",
      "Requirement already satisfied: six>=1.5 in c:\\users\\trant\\appdata\\local\\programs\\python\\python313\\lib\\site-packages (from python-dateutil>=2.8.2->pandas) (1.17.0)\n",
      "Requirement already satisfied: sympy>=1.13.3 in c:\\users\\trant\\appdata\\local\\programs\\python\\python313\\lib\\site-packages (from torch>=1.11.0->sentence-transformers) (1.14.0)\n",
      "Requirement already satisfied: networkx in c:\\users\\trant\\appdata\\local\\programs\\python\\python313\\lib\\site-packages (from torch>=1.11.0->sentence-transformers) (3.4.2)\n",
      "Requirement already satisfied: jinja2 in c:\\users\\trant\\appdata\\local\\programs\\python\\python313\\lib\\site-packages (from torch>=1.11.0->sentence-transformers) (3.1.6)\n",
      "Requirement already satisfied: setuptools in c:\\users\\trant\\appdata\\local\\programs\\python\\python313\\lib\\site-packages (from torch>=1.11.0->sentence-transformers) (78.1.0)\n",
      "Requirement already satisfied: mpmath<1.4,>=1.1.0 in c:\\users\\trant\\appdata\\local\\programs\\python\\python313\\lib\\site-packages (from sympy>=1.13.3->torch>=1.11.0->sentence-transformers) (1.3.0)\n",
      "Requirement already satisfied: colorama in c:\\users\\trant\\appdata\\roaming\\python\\python313\\site-packages (from tqdm->sentence-transformers) (0.4.6)\n",
      "Requirement already satisfied: MarkupSafe>=2.0 in c:\\users\\trant\\appdata\\local\\programs\\python\\python313\\lib\\site-packages (from jinja2->torch>=1.11.0->sentence-transformers) (3.0.2)\n",
      "Requirement already satisfied: charset-normalizer<4,>=2 in c:\\users\\trant\\appdata\\local\\programs\\python\\python313\\lib\\site-packages (from requests->transformers<5.0.0,>=4.41.0->sentence-transformers) (3.4.1)\n",
      "Requirement already satisfied: idna<4,>=2.5 in c:\\users\\trant\\appdata\\local\\programs\\python\\python313\\lib\\site-packages (from requests->transformers<5.0.0,>=4.41.0->sentence-transformers) (2.10)\n",
      "Requirement already satisfied: urllib3<3,>=1.21.1 in c:\\users\\trant\\appdata\\local\\programs\\python\\python313\\lib\\site-packages (from requests->transformers<5.0.0,>=4.41.0->sentence-transformers) (2.4.0)\n",
      "Requirement already satisfied: certifi>=2017.4.17 in c:\\users\\trant\\appdata\\local\\programs\\python\\python313\\lib\\site-packages (from requests->transformers<5.0.0,>=4.41.0->sentence-transformers) (2025.1.31)\n",
      "Requirement already satisfied: joblib>=1.2.0 in c:\\users\\trant\\appdata\\local\\programs\\python\\python313\\lib\\site-packages (from scikit-learn->sentence-transformers) (1.4.2)\n",
      "Requirement already satisfied: threadpoolctl>=3.1.0 in c:\\users\\trant\\appdata\\local\\programs\\python\\python313\\lib\\site-packages (from scikit-learn->sentence-transformers) (3.6.0)\n"
     ]
    }
   ],
   "source": [
    "import sys\n",
    "!{sys.executable} -m pip install sentence-transformers pandas openpyxl"
   ]
  },
  {
   "cell_type": "code",
   "execution_count": 2,
   "id": "3c131a5f",
   "metadata": {},
   "outputs": [
    {
     "name": "stderr",
     "output_type": "stream",
     "text": [
      "c:\\Users\\trant\\AppData\\Local\\Programs\\Python\\Python313\\Lib\\site-packages\\tqdm\\auto.py:21: TqdmWarning: IProgress not found. Please update jupyter and ipywidgets. See https://ipywidgets.readthedocs.io/en/stable/user_install.html\n",
      "  from .autonotebook import tqdm as notebook_tqdm\n"
     ]
    }
   ],
   "source": [
    "import pandas as pd\n",
    "import numpy as np\n",
    "import re\n",
    "import torch\n",
    "from sentence_transformers import SentenceTransformer, util\n",
    "from IPython.display import display, Markdown"
   ]
  },
  {
   "cell_type": "code",
   "execution_count": 3,
   "id": "9d461a8b",
   "metadata": {},
   "outputs": [],
   "source": [
    "# === 1. Load dữ liệu ===\n",
    "df = pd.read_excel(\"../courses_flattened.xlsx\")\n",
    "\n",
    "# === 2. Chuẩn hóa kỹ năng ===\n",
    "def preprocess(skill):\n",
    "    return re.sub(r\"[^\\w\\s\\-+/]\", \"\", skill.strip().lower())"
   ]
  },
  {
   "cell_type": "code",
   "execution_count": 4,
   "id": "6b3f6858",
   "metadata": {},
   "outputs": [],
   "source": [
    "all_raw_skills = df[\"Skill\"].dropna().str.split(',').explode().str.strip()\n",
    "unique_skills = sorted(set(all_raw_skills))\n",
    "standard_skills = sorted(set(preprocess(s) for s in unique_skills if len(s.split()) <= 5 and len(s) > 2))"
   ]
  },
  {
   "cell_type": "code",
   "execution_count": 5,
   "id": "3740f9f4",
   "metadata": {},
   "outputs": [
    {
     "name": "stderr",
     "output_type": "stream",
     "text": [
      "c:\\Users\\trant\\AppData\\Local\\Programs\\Python\\Python313\\Lib\\site-packages\\huggingface_hub\\file_download.py:143: UserWarning: `huggingface_hub` cache-system uses symlinks by default to efficiently store duplicated files but your machine does not support them in C:\\Users\\trant\\.cache\\huggingface\\hub\\models--sentence-transformers--all-MiniLM-L6-v2. Caching files will still work but in a degraded version that might require more space on your disk. This warning can be disabled by setting the `HF_HUB_DISABLE_SYMLINKS_WARNING` environment variable. For more details, see https://huggingface.co/docs/huggingface_hub/how-to-cache#limitations.\n",
      "To support symlinks on Windows, you either need to activate Developer Mode or to run Python as an administrator. In order to activate developer mode, see this article: https://docs.microsoft.com/en-us/windows/apps/get-started/enable-your-device-for-development\n",
      "  warnings.warn(message)\n",
      "Xet Storage is enabled for this repo, but the 'hf_xet' package is not installed. Falling back to regular HTTP download. For better performance, install the package with: `pip install huggingface_hub[hf_xet]` or `pip install hf_xet`\n"
     ]
    }
   ],
   "source": [
    "model = SentenceTransformer('all-MiniLM-L6-v2')\n",
    "standard_embeddings = model.encode(standard_skills, convert_to_tensor=True)"
   ]
  },
  {
   "cell_type": "code",
   "execution_count": 6,
   "id": "b4cc42c8",
   "metadata": {},
   "outputs": [],
   "source": [
    "def semantic_match_skills(raw_skills: str, threshold: float = 0.6):\n",
    "    matches = []\n",
    "    if not isinstance(raw_skills, str):\n",
    "        return matches\n",
    "    for skill in raw_skills.split(','):\n",
    "        skill_clean = preprocess(skill)\n",
    "        if not skill_clean:\n",
    "            continue\n",
    "        query_embedding = model.encode(skill_clean, convert_to_tensor=True)\n",
    "        cosine_scores = util.cos_sim(query_embedding, standard_embeddings)[0]\n",
    "        best_score, best_idx = torch.max(cosine_scores, dim=0)\n",
    "        matched_skill = standard_skills[best_idx]\n",
    "        if best_score.item() >= threshold:\n",
    "            matches.append(matched_skill)\n",
    "        else:\n",
    "            matches.append(f\"[Unmatched] {skill}\")\n",
    "    return matches\n"
   ]
  },
  {
   "cell_type": "code",
   "execution_count": 7,
   "id": "a02049a4",
   "metadata": {},
   "outputs": [],
   "source": [
    "def semantic_score_stats(raw_skills: str, threshold: float = 0.6):\n",
    "    if not isinstance(raw_skills, str):\n",
    "        return 0, 0, 0.0, None\n",
    "    total, matched, scores = 0, 0, []\n",
    "    for skill in raw_skills.split(','):\n",
    "        skill_clean = preprocess(skill)\n",
    "        if not skill_clean:\n",
    "            continue\n",
    "        total += 1\n",
    "        query_embedding = model.encode(skill_clean, convert_to_tensor=True)\n",
    "        cosine_scores = util.cos_sim(query_embedding, standard_embeddings)[0]\n",
    "        best_score, best_idx = torch.max(cosine_scores, dim=0)\n",
    "        scores.append(best_score.item())\n",
    "        if best_score.item() >= threshold:\n",
    "            matched += 1\n",
    "    percent = round(matched / total * 100, 2) if total else 0.0\n",
    "    avg_score = round(np.mean(scores), 4) if scores else None\n",
    "    return matched, total, percent, avg_score"
   ]
  },
  {
   "cell_type": "code",
   "execution_count": 8,
   "id": "b4c4a757",
   "metadata": {},
   "outputs": [],
   "source": [
    "df[\"Semantic_Matched_Skills\"] = df[\"Skill\"].apply(lambda s: semantic_match_skills(s, threshold=0.6))\n",
    "df[[\"Semantic_Matched_Count\", \"Total_Skills\", \"Semantic_Match_Rate(%)\", \"Semantic_Match_Score\"]] = df[\"Skill\"].apply(\n",
    "    lambda s: pd.Series(semantic_score_stats(s, threshold=0.6))\n",
    ")"
   ]
  },
  {
   "cell_type": "code",
   "execution_count": 9,
   "id": "af5c4886",
   "metadata": {},
   "outputs": [],
   "source": [
    "total_matched = df[\"Semantic_Matched_Count\"].sum()\n",
    "total_skills = df[\"Total_Skills\"].sum()\n",
    "\n",
    "precision = round(total_matched / total_skills, 4) if total_skills else 0.0\n",
    "recall = precision  # giả định không có ground truth\n",
    "f1_score = round(2 * precision * recall / (precision + recall), 4) if precision + recall > 0 else 0.0\n",
    "avg_semantic_score = round(df[\"Semantic_Match_Score\"].mean(), 4)"
   ]
  },
  {
   "cell_type": "code",
   "execution_count": 10,
   "id": "1979f2d6",
   "metadata": {},
   "outputs": [
    {
     "data": {
      "text/markdown": [
       "\n",
       "## 🧠 Semantic Matching – Sentence-BERT\n",
       "\n",
       "- **Tổng kỹ năng**: `6128.0`\n",
       "- **Tổng kỹ năng match được**: `6118.0`\n",
       "- **Precision (approx)**: `99.84%`\n",
       "- **Recall (approx)**: `99.84%`\n",
       "- **F1 Score (approx)**: `99.84%`\n",
       "- **Điểm cosine trung bình**: `0.9986`\n"
      ],
      "text/plain": [
       "<IPython.core.display.Markdown object>"
      ]
     },
     "metadata": {},
     "output_type": "display_data"
    }
   ],
   "source": [
    "display(Markdown(f\"\"\"\n",
    "## 🧠 Semantic Matching – Sentence-BERT\n",
    "\n",
    "- **Tổng kỹ năng**: `{total_skills}`\n",
    "- **Tổng kỹ năng match được**: `{total_matched}`\n",
    "- **Precision (approx)**: `{precision * 100:.2f}%`\n",
    "- **Recall (approx)**: `{recall * 100:.2f}%`\n",
    "- **F1 Score (approx)**: `{f1_score * 100:.2f}%`\n",
    "- **Điểm cosine trung bình**: `{avg_semantic_score:.4f}`\n",
    "\"\"\"))"
   ]
  },
  {
   "cell_type": "code",
   "execution_count": 11,
   "id": "543aee65",
   "metadata": {},
   "outputs": [
    {
     "data": {
      "text/html": [
       "<div>\n",
       "<style scoped>\n",
       "    .dataframe tbody tr th:only-of-type {\n",
       "        vertical-align: middle;\n",
       "    }\n",
       "\n",
       "    .dataframe tbody tr th {\n",
       "        vertical-align: top;\n",
       "    }\n",
       "\n",
       "    .dataframe thead th {\n",
       "        text-align: right;\n",
       "    }\n",
       "</style>\n",
       "<table border=\"1\" class=\"dataframe\">\n",
       "  <thead>\n",
       "    <tr style=\"text-align: right;\">\n",
       "      <th></th>\n",
       "      <th>Tên MH</th>\n",
       "      <th>Skill</th>\n",
       "      <th>Semantic_Matched_Skills</th>\n",
       "      <th>Semantic_Match_Rate(%)</th>\n",
       "      <th>Semantic_Match_Score</th>\n",
       "    </tr>\n",
       "  </thead>\n",
       "  <tbody>\n",
       "    <tr>\n",
       "      <th>0</th>\n",
       "      <td>Hệ thống thông tin kế toán</td>\n",
       "      <td>Accounting Cycle Analysis, Business Process Mo...</td>\n",
       "      <td>[accounting cycle analysis, business process m...</td>\n",
       "      <td>100.0</td>\n",
       "      <td>1.0000</td>\n",
       "    </tr>\n",
       "    <tr>\n",
       "      <th>1</th>\n",
       "      <td>Hoạch định nguồn lực doanh nghiệp</td>\n",
       "      <td>ERP System Analysis, Business Process Modeling...</td>\n",
       "      <td>[erp system analysis, business process modelin...</td>\n",
       "      <td>100.0</td>\n",
       "      <td>0.9795</td>\n",
       "    </tr>\n",
       "    <tr>\n",
       "      <th>2</th>\n",
       "      <td>Giới thiệu ngành Kỹ Thuật Máy tính</td>\n",
       "      <td>Industry Awareness, Career Planning, ICT Trend...</td>\n",
       "      <td>[industry awareness, career planning, ict tren...</td>\n",
       "      <td>100.0</td>\n",
       "      <td>1.0000</td>\n",
       "    </tr>\n",
       "    <tr>\n",
       "      <th>3</th>\n",
       "      <td>Vi xử lý-vi điều khiển</td>\n",
       "      <td>Microprocessor and Microcontroller Fundamental...</td>\n",
       "      <td>[microprocessor and microcontroller fundamenta...</td>\n",
       "      <td>100.0</td>\n",
       "      <td>0.9732</td>\n",
       "    </tr>\n",
       "    <tr>\n",
       "      <th>4</th>\n",
       "      <td>Xử lý tín hiệu số</td>\n",
       "      <td>Digital Signal Processing, Discrete-Time Syste...</td>\n",
       "      <td>[digital signal processing, discrete-time syst...</td>\n",
       "      <td>100.0</td>\n",
       "      <td>1.0000</td>\n",
       "    </tr>\n",
       "    <tr>\n",
       "      <th>5</th>\n",
       "      <td>Thiết kế luận lý số</td>\n",
       "      <td>Sequential Circuit Design, Memory Component An...</td>\n",
       "      <td>[sequential circuit design, memory component a...</td>\n",
       "      <td>100.0</td>\n",
       "      <td>1.0000</td>\n",
       "    </tr>\n",
       "    <tr>\n",
       "      <th>6</th>\n",
       "      <td>Thực hành Kiến trúc máy tính</td>\n",
       "      <td>FPGA System Development, Nios II Soft Processo...</td>\n",
       "      <td>[fpga system development, nios ii soft process...</td>\n",
       "      <td>100.0</td>\n",
       "      <td>1.0000</td>\n",
       "    </tr>\n",
       "    <tr>\n",
       "      <th>7</th>\n",
       "      <td>Lý thuyết mạch điện</td>\n",
       "      <td>Electrical Circuit Analysis, Equivalent Circui...</td>\n",
       "      <td>[electrical circuit analysis, equivalent circu...</td>\n",
       "      <td>100.0</td>\n",
       "      <td>1.0000</td>\n",
       "    </tr>\n",
       "    <tr>\n",
       "      <th>8</th>\n",
       "      <td>Các thiết bị và mạch điện tử</td>\n",
       "      <td>Electronic Circuit Analysis, Amplifier Design,...</td>\n",
       "      <td>[electronic circuit analysis, amplifier design...</td>\n",
       "      <td>100.0</td>\n",
       "      <td>1.0000</td>\n",
       "    </tr>\n",
       "    <tr>\n",
       "      <th>9</th>\n",
       "      <td>Đồ án 1</td>\n",
       "      <td>Basic Circuit Design, Embedded Software Develo...</td>\n",
       "      <td>[basic circuit design, embedded software devel...</td>\n",
       "      <td>100.0</td>\n",
       "      <td>1.0000</td>\n",
       "    </tr>\n",
       "  </tbody>\n",
       "</table>\n",
       "</div>"
      ],
      "text/plain": [
       "                               Tên MH  \\\n",
       "0          Hệ thống thông tin kế toán   \n",
       "1   Hoạch định nguồn lực doanh nghiệp   \n",
       "2  Giới thiệu ngành Kỹ Thuật Máy tính   \n",
       "3              Vi xử lý-vi điều khiển   \n",
       "4                   Xử lý tín hiệu số   \n",
       "5                 Thiết kế luận lý số   \n",
       "6        Thực hành Kiến trúc máy tính   \n",
       "7                 Lý thuyết mạch điện   \n",
       "8        Các thiết bị và mạch điện tử   \n",
       "9                             Đồ án 1   \n",
       "\n",
       "                                               Skill  \\\n",
       "0  Accounting Cycle Analysis, Business Process Mo...   \n",
       "1  ERP System Analysis, Business Process Modeling...   \n",
       "2  Industry Awareness, Career Planning, ICT Trend...   \n",
       "3  Microprocessor and Microcontroller Fundamental...   \n",
       "4  Digital Signal Processing, Discrete-Time Syste...   \n",
       "5  Sequential Circuit Design, Memory Component An...   \n",
       "6  FPGA System Development, Nios II Soft Processo...   \n",
       "7  Electrical Circuit Analysis, Equivalent Circui...   \n",
       "8  Electronic Circuit Analysis, Amplifier Design,...   \n",
       "9  Basic Circuit Design, Embedded Software Develo...   \n",
       "\n",
       "                             Semantic_Matched_Skills  Semantic_Match_Rate(%)  \\\n",
       "0  [accounting cycle analysis, business process m...                   100.0   \n",
       "1  [erp system analysis, business process modelin...                   100.0   \n",
       "2  [industry awareness, career planning, ict tren...                   100.0   \n",
       "3  [microprocessor and microcontroller fundamenta...                   100.0   \n",
       "4  [digital signal processing, discrete-time syst...                   100.0   \n",
       "5  [sequential circuit design, memory component a...                   100.0   \n",
       "6  [fpga system development, nios ii soft process...                   100.0   \n",
       "7  [electrical circuit analysis, equivalent circu...                   100.0   \n",
       "8  [electronic circuit analysis, amplifier design...                   100.0   \n",
       "9  [basic circuit design, embedded software devel...                   100.0   \n",
       "\n",
       "   Semantic_Match_Score  \n",
       "0                1.0000  \n",
       "1                0.9795  \n",
       "2                1.0000  \n",
       "3                0.9732  \n",
       "4                1.0000  \n",
       "5                1.0000  \n",
       "6                1.0000  \n",
       "7                1.0000  \n",
       "8                1.0000  \n",
       "9                1.0000  "
      ]
     },
     "metadata": {},
     "output_type": "display_data"
    }
   ],
   "source": [
    "display(df[[\"Tên MH\", \"Skill\", \"Semantic_Matched_Skills\", \"Semantic_Match_Rate(%)\", \"Semantic_Match_Score\"]].head(10))\n",
    "df.to_excel(\"courses_with_semantic_matching.xlsx\", index=False)\n"
   ]
  }
 ],
 "metadata": {
  "kernelspec": {
   "display_name": "Python 3",
   "language": "python",
   "name": "python3"
  },
  "language_info": {
   "codemirror_mode": {
    "name": "ipython",
    "version": 3
   },
   "file_extension": ".py",
   "mimetype": "text/x-python",
   "name": "python",
   "nbconvert_exporter": "python",
   "pygments_lexer": "ipython3",
   "version": "3.13.2"
  }
 },
 "nbformat": 4,
 "nbformat_minor": 5
}
