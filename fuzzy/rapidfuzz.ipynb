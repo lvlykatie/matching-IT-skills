{
 "cells": [
  {
   "cell_type": "code",
   "execution_count": 13,
   "id": "8a7a6529",
   "metadata": {},
   "outputs": [
    {
     "name": "stdout",
     "output_type": "stream",
     "text": [
      "Requirement already satisfied: rapidfuzz in c:\\users\\trant\\appdata\\local\\programs\\python\\python313\\lib\\site-packages (3.13.0)\n"
     ]
    }
   ],
   "source": [
    "import sys\n",
    "!{sys.executable} -m pip install rapidfuzz\n",
    "\n"
   ]
  },
  {
   "cell_type": "code",
   "execution_count": 14,
   "id": "b567bc9b",
   "metadata": {},
   "outputs": [],
   "source": [
    "import pandas as pd\n",
    "from rapidfuzz import fuzz, process\n",
    "import re"
   ]
  },
  {
   "cell_type": "code",
   "execution_count": 15,
   "id": "d43fbec5",
   "metadata": {},
   "outputs": [],
   "source": [
    "df = pd.read_excel(\"../courses_flattened.xlsx\")  \n",
    "\n",
    "all_raw_skills = df[\"Skill\"].dropna().str.split(',').explode().str.strip()\n",
    "unique_skills = sorted(set(all_raw_skills))"
   ]
  },
  {
   "cell_type": "code",
   "execution_count": 16,
   "id": "4690eacf",
   "metadata": {},
   "outputs": [],
   "source": [
    "filtered_skills = [\n",
    "    re.sub(r\"[^\\w\\s\\-+/]\", \"\", skill.strip().lower())\n",
    "    for skill in unique_skills\n",
    "    if len(skill.split()) <= 5\n",
    "]"
   ]
  },
  {
   "cell_type": "code",
   "execution_count": 17,
   "id": "0f853939",
   "metadata": {},
   "outputs": [],
   "source": [
    "standard_skills = sorted(set(s for s in filtered_skills if len(s) > 2))"
   ]
  },
  {
   "cell_type": "code",
   "execution_count": 18,
   "id": "b781abf0",
   "metadata": {},
   "outputs": [],
   "source": [
    "def match_skills(raw_skills: str, standard_skills: list, threshold: int = 80):\n",
    "    matched = []\n",
    "    if not isinstance(raw_skills, str):\n",
    "        return matched\n",
    "\n",
    "    for skill in raw_skills.split(','):\n",
    "        skill = skill.strip()\n",
    "        if not skill:\n",
    "            continue\n",
    "        best_match, score, _ = process.extractOne(skill, standard_skills, scorer=fuzz.token_sort_ratio)\n",
    "        if score >= threshold:\n",
    "            matched.append(best_match)\n",
    "        else:\n",
    "            matched.append(f\"[Unmatched] {skill}\")\n",
    "    return matched"
   ]
  },
  {
   "cell_type": "code",
   "execution_count": 19,
   "id": "55625853",
   "metadata": {},
   "outputs": [],
   "source": [
    "def average_matching_score(raw_skills: str, standard_skills: list):\n",
    "    scores = []\n",
    "    if not isinstance(raw_skills, str):\n",
    "        return None\n",
    "    for skill in raw_skills.split(','):\n",
    "        skill = skill.strip()\n",
    "        if not skill:\n",
    "            continue\n",
    "        _, score, _ = process.extractOne(skill, standard_skills, scorer=fuzz.token_sort_ratio)\n",
    "        scores.append(score)\n",
    "    return round(sum(scores) / len(scores), 2) if scores else None"
   ]
  },
  {
   "cell_type": "code",
   "execution_count": 20,
   "id": "23ac4169",
   "metadata": {},
   "outputs": [],
   "source": [
    "# === 5. Thống kê độ chính xác: matched/total\n",
    "def matching_stats(raw_skills: str, standard_skills: list, threshold: int = 80):\n",
    "    total, matched = 0, 0\n",
    "    if not isinstance(raw_skills, str):\n",
    "        return 0, 0, 0.0\n",
    "    for skill in raw_skills.split(','):\n",
    "        skill = skill.strip()\n",
    "        if not skill:\n",
    "            continue\n",
    "        total += 1\n",
    "        _, score, _ = process.extractOne(skill, standard_skills, scorer=fuzz.token_sort_ratio)\n",
    "        if score >= threshold:\n",
    "            matched += 1\n",
    "    percent = round(matched / total * 100, 2) if total else 0.0\n",
    "    return matched, total, percent"
   ]
  },
  {
   "cell_type": "code",
   "execution_count": 21,
   "id": "bffcc80b",
   "metadata": {},
   "outputs": [],
   "source": [
    "df[\"Matched_Skills\"] = df[\"Skill\"].apply(lambda s: match_skills(s, standard_skills))\n",
    "df[\"Matching_Score\"] = df[\"Skill\"].apply(lambda s: average_matching_score(s, standard_skills))\n",
    "df[[\"Matched_Count\", \"Total_Skills\", \"Match_Rate(%)\"]] = df[\"Skill\"].apply(\n",
    "    lambda s: pd.Series(matching_stats(s, standard_skills))\n",
    ")"
   ]
  },
  {
   "cell_type": "code",
   "execution_count": 22,
   "id": "6be88e2c",
   "metadata": {},
   "outputs": [],
   "source": [
    "total_matched = df[\"Matched_Count\"].sum()\n",
    "total_skills = df[\"Total_Skills\"].sum()\n",
    "\n",
    "precision = round(total_matched / total_skills, 4) if total_skills else 0.0\n",
    "recall = precision  # giả định không có false negative vì không có ground truth\n",
    "f1_score = round(2 * precision * recall / (precision + recall), 4) if precision + recall > 0 else 0.0\n",
    "avg_match_score = round(df[\"Matching_Score\"].mean(), 2)\n"
   ]
  },
  {
   "cell_type": "code",
   "execution_count": 23,
   "id": "edec2a58",
   "metadata": {},
   "outputs": [
    {
     "data": {
      "text/markdown": [
       "\n",
       "## 📊 Đánh giá độ chính xác fuzzy matching\n",
       "\n",
       "- **Tổng kỹ năng**: `6128.0`\n",
       "- **Tổng kỹ năng match được**: `4527.0`\n",
       "- **Precision (approx)**: `73.87%`\n",
       "- **Recall (approx)**: `73.87%`\n",
       "- **F1 Score (approx)**: `73.87%`\n",
       "- **Điểm fuzzy trung bình**: `82.81/100`\n"
      ],
      "text/plain": [
       "<IPython.core.display.Markdown object>"
      ]
     },
     "metadata": {},
     "output_type": "display_data"
    }
   ],
   "source": [
    "from IPython.display import display, Markdown\n",
    "\n",
    "display(Markdown(f\"\"\"\n",
    "## 📊 Đánh giá độ chính xác fuzzy matching\n",
    "\n",
    "- **Tổng kỹ năng**: `{total_skills}`\n",
    "- **Tổng kỹ năng match được**: `{total_matched}`\n",
    "- **Precision (approx)**: `{precision * 100:.2f}%`\n",
    "- **Recall (approx)**: `{recall * 100:.2f}%`\n",
    "- **F1 Score (approx)**: `{f1_score * 100:.2f}%`\n",
    "- **Điểm fuzzy trung bình**: `{avg_match_score}/100`\n",
    "\"\"\"))"
   ]
  },
  {
   "cell_type": "code",
   "execution_count": 24,
   "id": "1b8c4a8c",
   "metadata": {},
   "outputs": [
    {
     "data": {
      "text/html": [
       "<div>\n",
       "<style scoped>\n",
       "    .dataframe tbody tr th:only-of-type {\n",
       "        vertical-align: middle;\n",
       "    }\n",
       "\n",
       "    .dataframe tbody tr th {\n",
       "        vertical-align: top;\n",
       "    }\n",
       "\n",
       "    .dataframe thead th {\n",
       "        text-align: right;\n",
       "    }\n",
       "</style>\n",
       "<table border=\"1\" class=\"dataframe\">\n",
       "  <thead>\n",
       "    <tr style=\"text-align: right;\">\n",
       "      <th></th>\n",
       "      <th>Tên MH</th>\n",
       "      <th>Skill</th>\n",
       "      <th>Matched_Skills</th>\n",
       "      <th>Match_Rate(%)</th>\n",
       "      <th>Matching_Score</th>\n",
       "    </tr>\n",
       "  </thead>\n",
       "  <tbody>\n",
       "    <tr>\n",
       "      <th>0</th>\n",
       "      <td>Hệ thống thông tin kế toán</td>\n",
       "      <td>Accounting Cycle Analysis, Business Process Mo...</td>\n",
       "      <td>[accounting cycle analysis, business process m...</td>\n",
       "      <td>93.33</td>\n",
       "      <td>87.51</td>\n",
       "    </tr>\n",
       "    <tr>\n",
       "      <th>1</th>\n",
       "      <td>Hoạch định nguồn lực doanh nghiệp</td>\n",
       "      <td>ERP System Analysis, Business Process Modeling...</td>\n",
       "      <td>[[Unmatched] ERP System Analysis, [Unmatched] ...</td>\n",
       "      <td>71.43</td>\n",
       "      <td>82.46</td>\n",
       "    </tr>\n",
       "    <tr>\n",
       "      <th>2</th>\n",
       "      <td>Giới thiệu ngành Kỹ Thuật Máy tính</td>\n",
       "      <td>Industry Awareness, Career Planning, ICT Trend...</td>\n",
       "      <td>[industry awareness, career planning, [Unmatch...</td>\n",
       "      <td>88.89</td>\n",
       "      <td>87.21</td>\n",
       "    </tr>\n",
       "    <tr>\n",
       "      <th>3</th>\n",
       "      <td>Vi xử lý-vi điều khiển</td>\n",
       "      <td>Microprocessor and Microcontroller Fundamental...</td>\n",
       "      <td>[microprocessor and microcontroller fundamenta...</td>\n",
       "      <td>80.00</td>\n",
       "      <td>83.66</td>\n",
       "    </tr>\n",
       "    <tr>\n",
       "      <th>4</th>\n",
       "      <td>Xử lý tín hiệu số</td>\n",
       "      <td>Digital Signal Processing, Discrete-Time Syste...</td>\n",
       "      <td>[digital signal processing, discrete-time syst...</td>\n",
       "      <td>66.67</td>\n",
       "      <td>82.14</td>\n",
       "    </tr>\n",
       "    <tr>\n",
       "      <th>5</th>\n",
       "      <td>Thiết kế luận lý số</td>\n",
       "      <td>Sequential Circuit Design, Memory Component An...</td>\n",
       "      <td>[sequential circuit design, memory component a...</td>\n",
       "      <td>87.50</td>\n",
       "      <td>87.08</td>\n",
       "    </tr>\n",
       "    <tr>\n",
       "      <th>6</th>\n",
       "      <td>Thực hành Kiến trúc máy tính</td>\n",
       "      <td>FPGA System Development, Nios II Soft Processo...</td>\n",
       "      <td>[[Unmatched] FPGA System Development, nios ii ...</td>\n",
       "      <td>80.00</td>\n",
       "      <td>84.17</td>\n",
       "    </tr>\n",
       "    <tr>\n",
       "      <th>7</th>\n",
       "      <td>Lý thuyết mạch điện</td>\n",
       "      <td>Electrical Circuit Analysis, Equivalent Circui...</td>\n",
       "      <td>[electrical circuit analysis, equivalent circu...</td>\n",
       "      <td>100.00</td>\n",
       "      <td>88.18</td>\n",
       "    </tr>\n",
       "    <tr>\n",
       "      <th>8</th>\n",
       "      <td>Các thiết bị và mạch điện tử</td>\n",
       "      <td>Electronic Circuit Analysis, Amplifier Design,...</td>\n",
       "      <td>[electronic circuit analysis, amplifier design...</td>\n",
       "      <td>72.73</td>\n",
       "      <td>76.69</td>\n",
       "    </tr>\n",
       "    <tr>\n",
       "      <th>9</th>\n",
       "      <td>Đồ án 1</td>\n",
       "      <td>Basic Circuit Design, Embedded Software Develo...</td>\n",
       "      <td>[basic circuit design, embedded software devel...</td>\n",
       "      <td>80.00</td>\n",
       "      <td>86.51</td>\n",
       "    </tr>\n",
       "  </tbody>\n",
       "</table>\n",
       "</div>"
      ],
      "text/plain": [
       "                               Tên MH  \\\n",
       "0          Hệ thống thông tin kế toán   \n",
       "1   Hoạch định nguồn lực doanh nghiệp   \n",
       "2  Giới thiệu ngành Kỹ Thuật Máy tính   \n",
       "3              Vi xử lý-vi điều khiển   \n",
       "4                   Xử lý tín hiệu số   \n",
       "5                 Thiết kế luận lý số   \n",
       "6        Thực hành Kiến trúc máy tính   \n",
       "7                 Lý thuyết mạch điện   \n",
       "8        Các thiết bị và mạch điện tử   \n",
       "9                             Đồ án 1   \n",
       "\n",
       "                                               Skill  \\\n",
       "0  Accounting Cycle Analysis, Business Process Mo...   \n",
       "1  ERP System Analysis, Business Process Modeling...   \n",
       "2  Industry Awareness, Career Planning, ICT Trend...   \n",
       "3  Microprocessor and Microcontroller Fundamental...   \n",
       "4  Digital Signal Processing, Discrete-Time Syste...   \n",
       "5  Sequential Circuit Design, Memory Component An...   \n",
       "6  FPGA System Development, Nios II Soft Processo...   \n",
       "7  Electrical Circuit Analysis, Equivalent Circui...   \n",
       "8  Electronic Circuit Analysis, Amplifier Design,...   \n",
       "9  Basic Circuit Design, Embedded Software Develo...   \n",
       "\n",
       "                                      Matched_Skills  Match_Rate(%)  \\\n",
       "0  [accounting cycle analysis, business process m...          93.33   \n",
       "1  [[Unmatched] ERP System Analysis, [Unmatched] ...          71.43   \n",
       "2  [industry awareness, career planning, [Unmatch...          88.89   \n",
       "3  [microprocessor and microcontroller fundamenta...          80.00   \n",
       "4  [digital signal processing, discrete-time syst...          66.67   \n",
       "5  [sequential circuit design, memory component a...          87.50   \n",
       "6  [[Unmatched] FPGA System Development, nios ii ...          80.00   \n",
       "7  [electrical circuit analysis, equivalent circu...         100.00   \n",
       "8  [electronic circuit analysis, amplifier design...          72.73   \n",
       "9  [basic circuit design, embedded software devel...          80.00   \n",
       "\n",
       "   Matching_Score  \n",
       "0           87.51  \n",
       "1           82.46  \n",
       "2           87.21  \n",
       "3           83.66  \n",
       "4           82.14  \n",
       "5           87.08  \n",
       "6           84.17  \n",
       "7           88.18  \n",
       "8           76.69  \n",
       "9           86.51  "
      ]
     },
     "metadata": {},
     "output_type": "display_data"
    }
   ],
   "source": [
    "display(df[[\"Tên MH\", \"Skill\", \"Matched_Skills\", \"Match_Rate(%)\", \"Matching_Score\"]].head(10))\n",
    "\n",
    "# === 10. Ghi file nếu muốn\n",
    "df.to_excel(\"courses_with_matched_skills.xlsx\", index=False)\n"
   ]
  }
 ],
 "metadata": {
  "kernelspec": {
   "display_name": "Python 3",
   "language": "python",
   "name": "python3"
  },
  "language_info": {
   "codemirror_mode": {
    "name": "ipython",
    "version": 3
   },
   "file_extension": ".py",
   "mimetype": "text/x-python",
   "name": "python",
   "nbconvert_exporter": "python",
   "pygments_lexer": "ipython3",
   "version": "3.13.2"
  }
 },
 "nbformat": 4,
 "nbformat_minor": 5
}
